{
 "cells": [
  {
   "cell_type": "markdown",
   "id": "622b84b4",
   "metadata": {},
   "source": [
    "# HR Data Regression\n",
    "\n",
    "The objective of this notebook is to analyze Human Resources data of employees that have left the company. I will use different regression methods to transform data and derive a model that can accurately predict the amount of years an employee will stay with the company. This type of analysis can benefit Human Resources personnel because they can identify factors that influence turnover rate and find ways to prevent employees from leaving the organization."
   ]
  },
  {
   "cell_type": "code",
   "execution_count": 1,
   "id": "3218f1dd",
   "metadata": {},
   "outputs": [],
   "source": [
    "#Import python libraries\n",
    "#Data can be found at https://www.kaggle.com/datasets/pavansubhasht/ibm-hr-analytics-attrition-dataset\n",
    "\n",
    "import numpy as np\n",
    "import pandas as pd\n",
    "import matplotlib.pyplot as plt\n",
    "import seaborn as sns\n",
    "from sklearn.linear_model import Lasso, Ridge, ElasticNet, RidgeCV, LassoCV, ElasticNetCV, SGDRegressor, LinearRegression\n",
    "from sklearn.preprocessing import MinMaxScaler, StandardScaler, MaxAbsScaler, PolynomialFeatures\n",
    "from sklearn.metrics import r2_score, mean_squared_error\n",
    "from sklearn.model_selection import train_test_split, KFold, cross_val_predict, GridSearchCV\n",
    "import warnings\n",
    "from sklearn.preprocessing import OneHotEncoder, LabelEncoder\n",
    "from scipy.stats.mstats import normaltest\n",
    "from scipy.stats import boxcox\n",
    "from scipy.special import inv_boxcox\n",
    "from sklearn.pipeline import Pipeline\n",
    "\n"
   ]
  },
  {
   "cell_type": "code",
   "execution_count": 2,
   "id": "cb64a8c8",
   "metadata": {
    "scrolled": false
   },
   "outputs": [
    {
     "data": {
      "text/html": [
       "<div>\n",
       "<style scoped>\n",
       "    .dataframe tbody tr th:only-of-type {\n",
       "        vertical-align: middle;\n",
       "    }\n",
       "\n",
       "    .dataframe tbody tr th {\n",
       "        vertical-align: top;\n",
       "    }\n",
       "\n",
       "    .dataframe thead th {\n",
       "        text-align: right;\n",
       "    }\n",
       "</style>\n",
       "<table border=\"1\" class=\"dataframe\">\n",
       "  <thead>\n",
       "    <tr style=\"text-align: right;\">\n",
       "      <th></th>\n",
       "      <th>Age</th>\n",
       "      <th>Attrition</th>\n",
       "      <th>BusinessTravel</th>\n",
       "      <th>Department</th>\n",
       "      <th>DistanceFromHome</th>\n",
       "      <th>Education</th>\n",
       "      <th>EducationField</th>\n",
       "      <th>EmployeeCount</th>\n",
       "      <th>EmployeeNumber</th>\n",
       "      <th>EnvironmentSatisfaction</th>\n",
       "      <th>...</th>\n",
       "      <th>PerformanceRating</th>\n",
       "      <th>RelationshipSatisfaction</th>\n",
       "      <th>StockOptionLevel</th>\n",
       "      <th>TotalWorkingYears</th>\n",
       "      <th>TrainingTimesLastYear</th>\n",
       "      <th>WorkLifeBalance</th>\n",
       "      <th>YearsAtCompany</th>\n",
       "      <th>YearsInCurrentRole</th>\n",
       "      <th>YearsSinceLastPromotion</th>\n",
       "      <th>YearsWithCurrManager</th>\n",
       "    </tr>\n",
       "  </thead>\n",
       "  <tbody>\n",
       "    <tr>\n",
       "      <th>0</th>\n",
       "      <td>41</td>\n",
       "      <td>Yes</td>\n",
       "      <td>Travel_Rarely</td>\n",
       "      <td>Sales</td>\n",
       "      <td>1</td>\n",
       "      <td>2</td>\n",
       "      <td>Life Sciences</td>\n",
       "      <td>1</td>\n",
       "      <td>1</td>\n",
       "      <td>2</td>\n",
       "      <td>...</td>\n",
       "      <td>3</td>\n",
       "      <td>1</td>\n",
       "      <td>0</td>\n",
       "      <td>8</td>\n",
       "      <td>0</td>\n",
       "      <td>1</td>\n",
       "      <td>6</td>\n",
       "      <td>4</td>\n",
       "      <td>0</td>\n",
       "      <td>5</td>\n",
       "    </tr>\n",
       "    <tr>\n",
       "      <th>1</th>\n",
       "      <td>49</td>\n",
       "      <td>No</td>\n",
       "      <td>Travel_Frequently</td>\n",
       "      <td>Research &amp; Development</td>\n",
       "      <td>8</td>\n",
       "      <td>1</td>\n",
       "      <td>Life Sciences</td>\n",
       "      <td>1</td>\n",
       "      <td>2</td>\n",
       "      <td>3</td>\n",
       "      <td>...</td>\n",
       "      <td>4</td>\n",
       "      <td>4</td>\n",
       "      <td>1</td>\n",
       "      <td>10</td>\n",
       "      <td>3</td>\n",
       "      <td>3</td>\n",
       "      <td>10</td>\n",
       "      <td>7</td>\n",
       "      <td>1</td>\n",
       "      <td>7</td>\n",
       "    </tr>\n",
       "    <tr>\n",
       "      <th>2</th>\n",
       "      <td>37</td>\n",
       "      <td>Yes</td>\n",
       "      <td>Travel_Rarely</td>\n",
       "      <td>Research &amp; Development</td>\n",
       "      <td>2</td>\n",
       "      <td>2</td>\n",
       "      <td>Other</td>\n",
       "      <td>1</td>\n",
       "      <td>4</td>\n",
       "      <td>4</td>\n",
       "      <td>...</td>\n",
       "      <td>3</td>\n",
       "      <td>2</td>\n",
       "      <td>0</td>\n",
       "      <td>7</td>\n",
       "      <td>3</td>\n",
       "      <td>3</td>\n",
       "      <td>0</td>\n",
       "      <td>0</td>\n",
       "      <td>0</td>\n",
       "      <td>0</td>\n",
       "    </tr>\n",
       "    <tr>\n",
       "      <th>3</th>\n",
       "      <td>33</td>\n",
       "      <td>No</td>\n",
       "      <td>Travel_Frequently</td>\n",
       "      <td>Research &amp; Development</td>\n",
       "      <td>3</td>\n",
       "      <td>4</td>\n",
       "      <td>Life Sciences</td>\n",
       "      <td>1</td>\n",
       "      <td>5</td>\n",
       "      <td>4</td>\n",
       "      <td>...</td>\n",
       "      <td>3</td>\n",
       "      <td>3</td>\n",
       "      <td>0</td>\n",
       "      <td>8</td>\n",
       "      <td>3</td>\n",
       "      <td>3</td>\n",
       "      <td>8</td>\n",
       "      <td>7</td>\n",
       "      <td>3</td>\n",
       "      <td>0</td>\n",
       "    </tr>\n",
       "    <tr>\n",
       "      <th>4</th>\n",
       "      <td>27</td>\n",
       "      <td>No</td>\n",
       "      <td>Travel_Rarely</td>\n",
       "      <td>Research &amp; Development</td>\n",
       "      <td>2</td>\n",
       "      <td>1</td>\n",
       "      <td>Medical</td>\n",
       "      <td>1</td>\n",
       "      <td>7</td>\n",
       "      <td>1</td>\n",
       "      <td>...</td>\n",
       "      <td>3</td>\n",
       "      <td>4</td>\n",
       "      <td>1</td>\n",
       "      <td>6</td>\n",
       "      <td>3</td>\n",
       "      <td>3</td>\n",
       "      <td>2</td>\n",
       "      <td>2</td>\n",
       "      <td>2</td>\n",
       "      <td>2</td>\n",
       "    </tr>\n",
       "  </tbody>\n",
       "</table>\n",
       "<p>5 rows × 32 columns</p>\n",
       "</div>"
      ],
      "text/plain": [
       "   Age Attrition     BusinessTravel              Department  DistanceFromHome  \\\n",
       "0   41       Yes      Travel_Rarely                   Sales                 1   \n",
       "1   49        No  Travel_Frequently  Research & Development                 8   \n",
       "2   37       Yes      Travel_Rarely  Research & Development                 2   \n",
       "3   33        No  Travel_Frequently  Research & Development                 3   \n",
       "4   27        No      Travel_Rarely  Research & Development                 2   \n",
       "\n",
       "   Education EducationField  EmployeeCount  EmployeeNumber  \\\n",
       "0          2  Life Sciences              1               1   \n",
       "1          1  Life Sciences              1               2   \n",
       "2          2          Other              1               4   \n",
       "3          4  Life Sciences              1               5   \n",
       "4          1        Medical              1               7   \n",
       "\n",
       "   EnvironmentSatisfaction  ... PerformanceRating  RelationshipSatisfaction  \\\n",
       "0                        2  ...                 3                         1   \n",
       "1                        3  ...                 4                         4   \n",
       "2                        4  ...                 3                         2   \n",
       "3                        4  ...                 3                         3   \n",
       "4                        1  ...                 3                         4   \n",
       "\n",
       "   StockOptionLevel  TotalWorkingYears TrainingTimesLastYear  WorkLifeBalance  \\\n",
       "0                 0                  8                     0                1   \n",
       "1                 1                 10                     3                3   \n",
       "2                 0                  7                     3                3   \n",
       "3                 0                  8                     3                3   \n",
       "4                 1                  6                     3                3   \n",
       "\n",
       "  YearsAtCompany  YearsInCurrentRole  YearsSinceLastPromotion  \\\n",
       "0              6                   4                        0   \n",
       "1             10                   7                        1   \n",
       "2              0                   0                        0   \n",
       "3              8                   7                        3   \n",
       "4              2                   2                        2   \n",
       "\n",
       "  YearsWithCurrManager  \n",
       "0                    5  \n",
       "1                    7  \n",
       "2                    0  \n",
       "3                    0  \n",
       "4                    2  \n",
       "\n",
       "[5 rows x 32 columns]"
      ]
     },
     "execution_count": 2,
     "metadata": {},
     "output_type": "execute_result"
    }
   ],
   "source": [
    "#Import data into dataframe\n",
    "data = pd.read_csv('HRData.csv')\n",
    "data.head()"
   ]
  },
  {
   "cell_type": "code",
   "execution_count": 5,
   "id": "fc5374a9",
   "metadata": {},
   "outputs": [
    {
     "name": "stdout",
     "output_type": "stream",
     "text": [
      "<class 'pandas.core.frame.DataFrame'>\n",
      "RangeIndex: 1470 entries, 0 to 1469\n",
      "Data columns (total 32 columns):\n",
      " #   Column                    Non-Null Count  Dtype \n",
      "---  ------                    --------------  ----- \n",
      " 0   Age                       1470 non-null   int64 \n",
      " 1   Attrition                 1470 non-null   object\n",
      " 2   BusinessTravel            1470 non-null   object\n",
      " 3   Department                1470 non-null   object\n",
      " 4   DistanceFromHome          1470 non-null   int64 \n",
      " 5   Education                 1470 non-null   int64 \n",
      " 6   EducationField            1470 non-null   object\n",
      " 7   EmployeeCount             1470 non-null   int64 \n",
      " 8   EmployeeNumber            1470 non-null   int64 \n",
      " 9   EnvironmentSatisfaction   1470 non-null   int64 \n",
      " 10  Gender                    1470 non-null   object\n",
      " 11  HourlyRate                1470 non-null   int64 \n",
      " 12  JobInvolvement            1470 non-null   int64 \n",
      " 13  JobLevel                  1470 non-null   int64 \n",
      " 14  JobRole                   1470 non-null   object\n",
      " 15  JobSatisfaction           1470 non-null   int64 \n",
      " 16  MaritalStatus             1470 non-null   object\n",
      " 17  MonthlyIncome             1470 non-null   int64 \n",
      " 18  NumCompaniesWorked        1470 non-null   int64 \n",
      " 19  Over18                    1470 non-null   object\n",
      " 20  OverTime                  1470 non-null   object\n",
      " 21  PercentSalaryHike         1470 non-null   int64 \n",
      " 22  PerformanceRating         1470 non-null   int64 \n",
      " 23  RelationshipSatisfaction  1470 non-null   int64 \n",
      " 24  StockOptionLevel          1470 non-null   int64 \n",
      " 25  TotalWorkingYears         1470 non-null   int64 \n",
      " 26  TrainingTimesLastYear     1470 non-null   int64 \n",
      " 27  WorkLifeBalance           1470 non-null   int64 \n",
      " 28  YearsAtCompany            1470 non-null   int64 \n",
      " 29  YearsInCurrentRole        1470 non-null   int64 \n",
      " 30  YearsSinceLastPromotion   1470 non-null   int64 \n",
      " 31  YearsWithCurrManager      1470 non-null   int64 \n",
      "dtypes: int64(23), object(9)\n",
      "memory usage: 367.6+ KB\n"
     ]
    }
   ],
   "source": [
    "#Get information about dataframe columns\n",
    "data.info()"
   ]
  },
  {
   "cell_type": "code",
   "execution_count": 3,
   "id": "dc8cd293",
   "metadata": {},
   "outputs": [
    {
     "name": "stdout",
     "output_type": "stream",
     "text": [
      "Age 0\n",
      "Attrition 0\n",
      "BusinessTravel 0\n",
      "Department 0\n",
      "DistanceFromHome 0\n",
      "Education 0\n",
      "EducationField 0\n",
      "EmployeeCount 0\n",
      "EmployeeNumber 0\n",
      "EnvironmentSatisfaction 0\n",
      "Gender 0\n",
      "HourlyRate 0\n",
      "JobInvolvement 0\n",
      "JobLevel 0\n",
      "JobRole 0\n",
      "JobSatisfaction 0\n",
      "MaritalStatus 0\n",
      "MonthlyIncome 0\n",
      "NumCompaniesWorked 0\n",
      "Over18 0\n",
      "OverTime 0\n",
      "PercentSalaryHike 0\n",
      "PerformanceRating 0\n",
      "RelationshipSatisfaction 0\n",
      "StockOptionLevel 0\n",
      "TotalWorkingYears 0\n",
      "TrainingTimesLastYear 0\n",
      "WorkLifeBalance 0\n",
      "YearsAtCompany 0\n",
      "YearsInCurrentRole 0\n",
      "YearsSinceLastPromotion 0\n",
      "YearsWithCurrManager 0\n"
     ]
    }
   ],
   "source": [
    "#Check for null values\n",
    "for c in data.columns:\n",
    "    print(c, data[c].isnull().sum()) "
   ]
  },
  {
   "cell_type": "code",
   "execution_count": 4,
   "id": "eb8a9313",
   "metadata": {},
   "outputs": [
    {
     "name": "stdout",
     "output_type": "stream",
     "text": [
      "Unique Values\n",
      "Age 43 int64\n",
      "Attrition 2 object\n",
      "BusinessTravel 3 object\n",
      "Department 3 object\n",
      "DistanceFromHome 29 int64\n",
      "Education 5 int64\n",
      "EducationField 6 object\n",
      "EmployeeCount 1 int64\n",
      "EmployeeNumber 1470 int64\n",
      "EnvironmentSatisfaction 4 int64\n",
      "Gender 2 object\n",
      "HourlyRate 71 int64\n",
      "JobInvolvement 4 int64\n",
      "JobLevel 5 int64\n",
      "JobRole 9 object\n",
      "JobSatisfaction 4 int64\n",
      "MaritalStatus 3 object\n",
      "MonthlyIncome 1349 int64\n",
      "NumCompaniesWorked 10 int64\n",
      "Over18 1 object\n",
      "OverTime 2 object\n",
      "PercentSalaryHike 15 int64\n",
      "PerformanceRating 2 int64\n",
      "RelationshipSatisfaction 4 int64\n",
      "StockOptionLevel 4 int64\n",
      "TotalWorkingYears 40 int64\n",
      "TrainingTimesLastYear 7 int64\n",
      "WorkLifeBalance 4 int64\n",
      "YearsAtCompany 37 int64\n",
      "YearsInCurrentRole 19 int64\n",
      "YearsSinceLastPromotion 16 int64\n",
      "YearsWithCurrManager 18 int64\n"
     ]
    }
   ],
   "source": [
    "#Print number of unique values for each column\n",
    "print('Unique Values')\n",
    "for c in data.columns:\n",
    "    print(c, data[c].unique().size,data[c].dtype)"
   ]
  },
  {
   "cell_type": "code",
   "execution_count": 5,
   "id": "23f10492",
   "metadata": {},
   "outputs": [
    {
     "data": {
      "text/plain": [
       "<AxesSubplot:xlabel='YearsAtCompany', ylabel='Count'>"
      ]
     },
     "execution_count": 5,
     "metadata": {},
     "output_type": "execute_result"
    },
    {
     "data": {
      "image/png": "[encoded data removed]",
      "text/plain": [
       "<Figure size 864x576 with 1 Axes>"
      ]
     },
     "metadata": {},
     "output_type": "display_data"
    }
   ],
   "source": [
    "#Display histgram of YearsAtCompany by Attrition category\n",
    "\n",
    "sns.set(rc={\"figure.figsize\":(12, 8)})\n",
    "sns.histplot(data, x='YearsAtCompany', hue='Attrition', bins=8)"
   ]
  },
  {
   "cell_type": "markdown",
   "id": "02a45cc6",
   "metadata": {},
   "source": [
    "The histogram above shows the distribution of employees leaving the company skewed towards less YearsAtCompany. Only the employees with Attrition value of 'Yes' will be selected for analysis."
   ]
  },
  {
   "cell_type": "code",
   "execution_count": 6,
   "id": "42e31467",
   "metadata": {},
   "outputs": [
    {
     "data": {
      "text/plain": [
       "(237, 28)"
      ]
     },
     "execution_count": 6,
     "metadata": {},
     "output_type": "execute_result"
    }
   ],
   "source": [
    "#Select rows where Attrition= 'Yes' and Drop unecessary columns\n",
    "data2=data[data.Attrition=='Yes']\n",
    "data2=data2.drop(columns=['Attrition','Department','Over18','EmployeeCount'])\n",
    "data2.shape"
   ]
  },
  {
   "cell_type": "code",
   "execution_count": 7,
   "id": "a739edb4",
   "metadata": {},
   "outputs": [
    {
     "data": {
      "text/html": [
       "<div>\n",
       "<style scoped>\n",
       "    .dataframe tbody tr th:only-of-type {\n",
       "        vertical-align: middle;\n",
       "    }\n",
       "\n",
       "    .dataframe tbody tr th {\n",
       "        vertical-align: top;\n",
       "    }\n",
       "\n",
       "    .dataframe thead th {\n",
       "        text-align: right;\n",
       "    }\n",
       "</style>\n",
       "<table border=\"1\" class=\"dataframe\">\n",
       "  <thead>\n",
       "    <tr style=\"text-align: right;\">\n",
       "      <th></th>\n",
       "      <th>Age</th>\n",
       "      <th>DistanceFromHome</th>\n",
       "      <th>Education</th>\n",
       "      <th>EmployeeNumber</th>\n",
       "      <th>EnvironmentSatisfaction</th>\n",
       "      <th>HourlyRate</th>\n",
       "      <th>JobInvolvement</th>\n",
       "      <th>JobLevel</th>\n",
       "      <th>JobSatisfaction</th>\n",
       "      <th>MonthlyIncome</th>\n",
       "      <th>...</th>\n",
       "      <th>JobRole_Laboratory Technician</th>\n",
       "      <th>JobRole_Manager</th>\n",
       "      <th>JobRole_Manufacturing Director</th>\n",
       "      <th>JobRole_Research Director</th>\n",
       "      <th>JobRole_Research Scientist</th>\n",
       "      <th>JobRole_Sales Executive</th>\n",
       "      <th>JobRole_Sales Representative</th>\n",
       "      <th>MaritalStatus_Married</th>\n",
       "      <th>MaritalStatus_Single</th>\n",
       "      <th>OverTime_Yes</th>\n",
       "    </tr>\n",
       "  </thead>\n",
       "  <tbody>\n",
       "    <tr>\n",
       "      <th>0</th>\n",
       "      <td>41</td>\n",
       "      <td>1</td>\n",
       "      <td>2</td>\n",
       "      <td>1</td>\n",
       "      <td>2</td>\n",
       "      <td>94</td>\n",
       "      <td>3</td>\n",
       "      <td>2</td>\n",
       "      <td>4</td>\n",
       "      <td>5993</td>\n",
       "      <td>...</td>\n",
       "      <td>0</td>\n",
       "      <td>0</td>\n",
       "      <td>0</td>\n",
       "      <td>0</td>\n",
       "      <td>0</td>\n",
       "      <td>1</td>\n",
       "      <td>0</td>\n",
       "      <td>0</td>\n",
       "      <td>1</td>\n",
       "      <td>1</td>\n",
       "    </tr>\n",
       "    <tr>\n",
       "      <th>2</th>\n",
       "      <td>37</td>\n",
       "      <td>2</td>\n",
       "      <td>2</td>\n",
       "      <td>4</td>\n",
       "      <td>4</td>\n",
       "      <td>92</td>\n",
       "      <td>2</td>\n",
       "      <td>1</td>\n",
       "      <td>3</td>\n",
       "      <td>2090</td>\n",
       "      <td>...</td>\n",
       "      <td>1</td>\n",
       "      <td>0</td>\n",
       "      <td>0</td>\n",
       "      <td>0</td>\n",
       "      <td>0</td>\n",
       "      <td>0</td>\n",
       "      <td>0</td>\n",
       "      <td>0</td>\n",
       "      <td>1</td>\n",
       "      <td>1</td>\n",
       "    </tr>\n",
       "    <tr>\n",
       "      <th>14</th>\n",
       "      <td>28</td>\n",
       "      <td>24</td>\n",
       "      <td>3</td>\n",
       "      <td>19</td>\n",
       "      <td>3</td>\n",
       "      <td>50</td>\n",
       "      <td>2</td>\n",
       "      <td>1</td>\n",
       "      <td>3</td>\n",
       "      <td>2028</td>\n",
       "      <td>...</td>\n",
       "      <td>1</td>\n",
       "      <td>0</td>\n",
       "      <td>0</td>\n",
       "      <td>0</td>\n",
       "      <td>0</td>\n",
       "      <td>0</td>\n",
       "      <td>0</td>\n",
       "      <td>0</td>\n",
       "      <td>1</td>\n",
       "      <td>1</td>\n",
       "    </tr>\n",
       "    <tr>\n",
       "      <th>21</th>\n",
       "      <td>36</td>\n",
       "      <td>9</td>\n",
       "      <td>4</td>\n",
       "      <td>27</td>\n",
       "      <td>3</td>\n",
       "      <td>82</td>\n",
       "      <td>2</td>\n",
       "      <td>1</td>\n",
       "      <td>1</td>\n",
       "      <td>3407</td>\n",
       "      <td>...</td>\n",
       "      <td>0</td>\n",
       "      <td>0</td>\n",
       "      <td>0</td>\n",
       "      <td>0</td>\n",
       "      <td>0</td>\n",
       "      <td>0</td>\n",
       "      <td>1</td>\n",
       "      <td>0</td>\n",
       "      <td>1</td>\n",
       "      <td>0</td>\n",
       "    </tr>\n",
       "    <tr>\n",
       "      <th>24</th>\n",
       "      <td>34</td>\n",
       "      <td>6</td>\n",
       "      <td>1</td>\n",
       "      <td>31</td>\n",
       "      <td>2</td>\n",
       "      <td>83</td>\n",
       "      <td>3</td>\n",
       "      <td>1</td>\n",
       "      <td>1</td>\n",
       "      <td>2960</td>\n",
       "      <td>...</td>\n",
       "      <td>0</td>\n",
       "      <td>0</td>\n",
       "      <td>0</td>\n",
       "      <td>0</td>\n",
       "      <td>1</td>\n",
       "      <td>0</td>\n",
       "      <td>0</td>\n",
       "      <td>0</td>\n",
       "      <td>1</td>\n",
       "      <td>0</td>\n",
       "    </tr>\n",
       "  </tbody>\n",
       "</table>\n",
       "<p>5 rows × 41 columns</p>\n",
       "</div>"
      ],
      "text/plain": [
       "    Age  DistanceFromHome  Education  EmployeeNumber  EnvironmentSatisfaction  \\\n",
       "0    41                 1          2               1                        2   \n",
       "2    37                 2          2               4                        4   \n",
       "14   28                24          3              19                        3   \n",
       "21   36                 9          4              27                        3   \n",
       "24   34                 6          1              31                        2   \n",
       "\n",
       "    HourlyRate  JobInvolvement  JobLevel  JobSatisfaction  MonthlyIncome  ...  \\\n",
       "0           94               3         2                4           5993  ...   \n",
       "2           92               2         1                3           2090  ...   \n",
       "14          50               2         1                3           2028  ...   \n",
       "21          82               2         1                1           3407  ...   \n",
       "24          83               3         1                1           2960  ...   \n",
       "\n",
       "    JobRole_Laboratory Technician  JobRole_Manager  \\\n",
       "0                               0                0   \n",
       "2                               1                0   \n",
       "14                              1                0   \n",
       "21                              0                0   \n",
       "24                              0                0   \n",
       "\n",
       "    JobRole_Manufacturing Director  JobRole_Research Director  \\\n",
       "0                                0                          0   \n",
       "2                                0                          0   \n",
       "14                               0                          0   \n",
       "21                               0                          0   \n",
       "24                               0                          0   \n",
       "\n",
       "    JobRole_Research Scientist  JobRole_Sales Executive  \\\n",
       "0                            0                        1   \n",
       "2                            0                        0   \n",
       "14                           0                        0   \n",
       "21                           0                        0   \n",
       "24                           1                        0   \n",
       "\n",
       "    JobRole_Sales Representative  MaritalStatus_Married  MaritalStatus_Single  \\\n",
       "0                              0                      0                     1   \n",
       "2                              0                      0                     1   \n",
       "14                             0                      0                     1   \n",
       "21                             1                      0                     1   \n",
       "24                             0                      0                     1   \n",
       "\n",
       "    OverTime_Yes  \n",
       "0              1  \n",
       "2              1  \n",
       "14             1  \n",
       "21             0  \n",
       "24             0  \n",
       "\n",
       "[5 rows x 41 columns]"
      ]
     },
     "execution_count": 7,
     "metadata": {},
     "output_type": "execute_result"
    }
   ],
   "source": [
    "#Create dummy variables for categorical features\n",
    "data3=data2.copy()\n",
    "\n",
    "for i in data3.columns:\n",
    "    if data3[i].dtype=='object':\n",
    "        data3=pd.get_dummies(data3,columns=[i],drop_first=True)\n",
    "\n",
    "data3.head()"
   ]
  },
  {
   "cell_type": "code",
   "execution_count": 8,
   "id": "8ef6d425",
   "metadata": {},
   "outputs": [
    {
     "name": "stdout",
     "output_type": "stream",
     "text": [
      "JobRole_Sales Representative       -0.205922\n",
      "JobRole_Laboratory Technician      -0.197441\n",
      "MaritalStatus_Single               -0.110438\n",
      "Gender_Male                        -0.101169\n",
      "PercentSalaryHike                  -0.088777\n",
      "OverTime_Yes                       -0.086370\n",
      "JobRole_Research Scientist         -0.067990\n",
      "BusinessTravel_Travel_Frequently   -0.059483\n",
      "PerformanceRating                  -0.058423\n",
      "JobRole_Human Resources            -0.037501\n",
      "WorkLifeBalance                    -0.032627\n",
      "EducationField_Other               -0.031884\n",
      "DistanceFromHome                   -0.029204\n",
      "JobInvolvement                     -0.026785\n",
      "TrainingTimesLastYear              -0.026311\n",
      "EducationField_Life Sciences       -0.000941\n",
      "NumCompaniesWorked                 -0.000311\n",
      "YearsAtCompany                      0.000000\n",
      "EducationField_Medical              0.001222\n",
      "EmployeeNumber                      0.006834\n",
      "HourlyRate                          0.015526\n",
      "EducationField_Technical Degree     0.016250\n",
      "EnvironmentSatisfaction             0.031420\n",
      "StockOptionLevel                    0.042120\n",
      "EducationField_Marketing            0.044912\n",
      "RelationshipSatisfaction            0.073039\n",
      "BusinessTravel_Travel_Rarely        0.084796\n",
      "JobSatisfaction                     0.095849\n",
      "JobRole_Manufacturing Director      0.126171\n",
      "JobRole_Sales Executive             0.148890\n",
      "Education                           0.157490\n",
      "MaritalStatus_Married               0.179783\n",
      "JobRole_Manager                     0.258855\n",
      "JobRole_Research Director           0.332026\n",
      "Age                                 0.452909\n",
      "JobLevel                            0.614977\n",
      "MonthlyIncome                       0.634973\n",
      "YearsSinceLastPromotion             0.702128\n",
      "TotalWorkingYears                   0.767402\n",
      "YearsWithCurrManager                0.769296\n",
      "YearsInCurrentRole                  0.810889\n",
      "Name: YearsAtCompany, dtype: float64\n"
     ]
    },
    {
     "data": {
      "image/png": "[encoded data removed]",
      "text/plain": [
       "<Figure size 720x576 with 1 Axes>"
      ]
     },
     "metadata": {},
     "output_type": "display_data"
    }
   ],
   "source": [
    "#Plot correlations with YearsAtCompany variable\n",
    "corr_matrix = data3.corr()\n",
    "\n",
    "for i in range(corr_matrix.shape[1]):\n",
    "    corr_matrix.iloc[i,i] = 0\n",
    " \n",
    "correlations=corr_matrix['YearsAtCompany']\n",
    "correlations=correlations.sort_values()\n",
    "print(correlations[:])\n",
    "ax = correlations[:].plot(kind='bar',title='Correlations with YearsAtCompany',figsize=(10,8))"
   ]
  },
  {
   "cell_type": "markdown",
   "id": "94fcdc45",
   "metadata": {},
   "source": [
    "An important part of the analysis is identifying features that are highly correlated with YearsAtCompany. "
   ]
  },
  {
   "cell_type": "code",
   "execution_count": 9,
   "id": "ff680eaa",
   "metadata": {},
   "outputs": [
    {
     "data": {
      "image/png": "[encoded data removed]",
      "text/plain": [
       "<Figure size 720x576 with 1 Axes>"
      ]
     },
     "metadata": {},
     "output_type": "display_data"
    }
   ],
   "source": [
    "ax = correlations[:5].plot(kind='bar',title='Negative Correlations with YearsAtCompany',figsize=(10,8))"
   ]
  },
  {
   "cell_type": "code",
   "execution_count": 10,
   "id": "aacaa8be",
   "metadata": {},
   "outputs": [
    {
     "data": {
      "image/png": "[encoded data removed]",
      "text/plain": [
       "<Figure size 720x576 with 1 Axes>"
      ]
     },
     "metadata": {},
     "output_type": "display_data"
    }
   ],
   "source": [
    "ax = correlations[-10:].plot(kind='bar',title='Positive Correlations with YearsAtCompany',figsize=(10,8))"
   ]
  },
  {
   "cell_type": "markdown",
   "id": "b36c7551",
   "metadata": {},
   "source": [
    "Sales Representatives and Laboratory Technicians are more likely to leave the company with less YearsAtCompany. The Manager role and Married status are positively correlated with YearsAtCompany."
   ]
  },
  {
   "cell_type": "code",
   "execution_count": 11,
   "id": "9aa1b19b",
   "metadata": {},
   "outputs": [
    {
     "data": {
      "text/plain": [
       "<AxesSubplot:>"
      ]
     },
     "execution_count": 11,
     "metadata": {},
     "output_type": "execute_result"
    },
    {
     "data": {
      "image/png": "[encoded data removed]",
      "text/plain": [
       "<Figure size 720x576 with 2 Axes>"
      ]
     },
     "metadata": {},
     "output_type": "display_data"
    }
   ],
   "source": [
    "coor3=data3.loc[:,correlations[-10:].index]\n",
    "coor3=pd.concat([coor3,data3['YearsAtCompany']],axis=1)\n",
    "\n",
    "\n",
    "#Show Correlation Heatmap of 10 most correlated features\n",
    "sns.set(rc = {'figure.figsize':(10,8)})\n",
    "sns.heatmap(coor3.corr(),vmin=0, cmap='Blues')"
   ]
  },
  {
   "cell_type": "code",
   "execution_count": 12,
   "id": "57453a4b",
   "metadata": {},
   "outputs": [],
   "source": [
    "#Split dataframe into x and y variables\n",
    "\n",
    "x = data3.drop(columns='YearsAtCompany')\n",
    "y = data3['YearsAtCompany']"
   ]
  },
  {
   "cell_type": "code",
   "execution_count": 13,
   "id": "62efe363",
   "metadata": {},
   "outputs": [],
   "source": [
    "#Split data into train and test sets\n",
    "X_train, X_test, y_train, y_test = train_test_split(x, y, test_size=0.3, random_state = 10)\n"
   ]
  },
  {
   "cell_type": "code",
   "execution_count": 14,
   "id": "d0de8b06",
   "metadata": {},
   "outputs": [],
   "source": [
    "#Define Root Mean Squared Error function\n",
    "def rmse(ytrue, ypredicted):\n",
    "    return np.sqrt(mean_squared_error(ytrue, ypredicted))"
   ]
  },
  {
   "cell_type": "code",
   "execution_count": 15,
   "id": "a650092f",
   "metadata": {},
   "outputs": [],
   "source": [
    "#Scale data\n",
    "scaler = StandardScaler()\n",
    "X_train_sc = scaler.fit_transform(X_train)\n",
    "X_test_sc=scaler.transform(X_test)"
   ]
  },
  {
   "cell_type": "markdown",
   "id": "7eff2288",
   "metadata": {},
   "source": [
    "Here are regression models with different polynomial degrees and the results."
   ]
  },
  {
   "cell_type": "code",
   "execution_count": 16,
   "id": "67cf89c7",
   "metadata": {},
   "outputs": [
    {
     "name": "stdout",
     "output_type": "stream",
     "text": [
      "40  features with degree 1\n",
      "rmse:  2.6018991399670517\n",
      "r2:  0.7157259452143234\n"
     ]
    }
   ],
   "source": [
    "#Linear Regression\n",
    "LR=LinearRegression()\n",
    "LR = LR.fit(X_train, y_train)\n",
    "y_train_pred = LR.predict(X_train)\n",
    "y_test_pred = LR.predict(X_test)\n",
    "LinearReg_rmse=rmse(y_test,y_test_pred)\n",
    "LinearReg_r2=r2_score(y_test, y_test_pred)\n",
    "print(X_train.shape[1],' features with degree 1')\n",
    "print('rmse: ', rmse(y_test, y_test_pred))\n",
    "print('r2: ',LinearReg_r2)"
   ]
  },
  {
   "cell_type": "code",
   "execution_count": 17,
   "id": "fc513e5b",
   "metadata": {},
   "outputs": [
    {
     "name": "stdout",
     "output_type": "stream",
     "text": [
      "860  polynomial features with degree 2\n",
      "r2:  0.6684051659663903\n",
      "rmse:  2.810125548975847\n"
     ]
    }
   ],
   "source": [
    "#Linear Regression with Polynomial Features degree 2\n",
    "lr=LinearRegression()\n",
    "pf=PolynomialFeatures(degree=2,include_bias=False)\n",
    "x_poly=pf.fit_transform(X_train)\n",
    "x_test_poly=pf.transform(X_test)\n",
    "scaler = StandardScaler()\n",
    "x_scpoly = scaler.fit_transform(x_poly)\n",
    "x_test_scpoly=scaler.transform(x_test_poly)\n",
    "lr=lr.fit(x_scpoly, y_train)\n",
    "ypred=lr.predict(x_test_scpoly)\n",
    "print(x_poly.shape[1],' polynomial features with degree 2')\n",
    "print('r2: ',r2_score(y_test,ypred))\n",
    "print('rmse: ', rmse(y_test, ypred))\n"
   ]
  },
  {
   "cell_type": "code",
   "execution_count": 18,
   "id": "9283737e",
   "metadata": {},
   "outputs": [
    {
     "name": "stdout",
     "output_type": "stream",
     "text": [
      "12340  polynomial features with degree 3\n",
      "r2:  0.756579563162221\n",
      "rmse:  2.4076888647269707\n"
     ]
    }
   ],
   "source": [
    "#Linear Regression with Polynomial Features degree 3\n",
    "lr=LinearRegression()\n",
    "pf=PolynomialFeatures(degree=3,include_bias=False)\n",
    "x_poly=pf.fit_transform(X_train)\n",
    "x_test_poly=pf.transform(X_test)\n",
    "scaler = StandardScaler()\n",
    "x_scpoly = scaler.fit_transform(x_poly)\n",
    "x_test_scpoly=scaler.transform(x_test_poly)\n",
    "lr=lr.fit(x_scpoly, y_train)\n",
    "ypred=lr.predict(x_test_scpoly)\n",
    "print(x_poly.shape[1],' polynomial features with degree 3')\n",
    "print('r2: ',r2_score(y_test,ypred))\n",
    "print('rmse: ', rmse(y_test, ypred))"
   ]
  },
  {
   "cell_type": "code",
   "execution_count": 19,
   "id": "514a126a",
   "metadata": {},
   "outputs": [],
   "source": [
    "#Create KFold object\n",
    "\n",
    "kf = KFold(shuffle=True, random_state=0, n_splits=3)"
   ]
  },
  {
   "cell_type": "markdown",
   "id": "2be4be3d",
   "metadata": {},
   "source": [
    "The next models use different types of regularization for linear regression."
   ]
  },
  {
   "cell_type": "code",
   "execution_count": 24,
   "id": "9cf02929",
   "metadata": {},
   "outputs": [
    {
     "name": "stdout",
     "output_type": "stream",
     "text": [
      "Best Alpha: 50  RMSE: 2.5443904568749165  R2: 0.7281534504083642\n"
     ]
    }
   ],
   "source": [
    "#RidgeCV\n",
    "\n",
    "alphas = [1,5,10,15,20, 25, 40, 50, 60, 65, 80, 75, 80, 90, 100]\n",
    "\n",
    "ridgecv = RidgeCV(alphas=alphas, \n",
    "                  cv=kf).fit(X_train_sc, y_train)\n",
    "\n",
    "ridgecv_ypred=ridgecv.predict(X_test_sc)\n",
    "ridgeCV_rmse = rmse(y_test, ridgecv_ypred)\n",
    "ridge_r2=r2_score(y_test, ridgecv_ypred)\n",
    "\n",
    "print('Best Alpha:',ridgecv.alpha_,' RMSE:', ridgeCV_rmse,' R2:', ridge_r2)\n"
   ]
  },
  {
   "cell_type": "code",
   "execution_count": 25,
   "id": "f2201576",
   "metadata": {},
   "outputs": [
    {
     "name": "stdout",
     "output_type": "stream",
     "text": [
      "Best Alpha: 0.1  RMSE: 2.3414089268753244  R2: 0.769797069097064\n"
     ]
    }
   ],
   "source": [
    "#LassoCV\n",
    "\n",
    "alphas2 = np.array([.003,.01,.03,.1,.3, 1, 3])\n",
    "\n",
    "lassocv = LassoCV(alphas=alphas2,\n",
    "                  max_iter=5000,\n",
    "                  cv=kf).fit(X_train_sc, y_train)\n",
    "\n",
    "lassocv_ypred= lassocv.predict(X_test_sc)\n",
    "lassoCV_rmse = rmse(y_test, lassocv_ypred)\n",
    "lasso_r2= r2_score(y_test, lassocv_ypred)\n",
    "\n",
    "print('Best Alpha:',lassocv.alpha_,' RMSE:', lassoCV_rmse,' R2:', lasso_r2) "
   ]
  },
  {
   "cell_type": "code",
   "execution_count": 26,
   "id": "3b5031da",
   "metadata": {},
   "outputs": [
    {
     "name": "stdout",
     "output_type": "stream",
     "text": [
      "Best Alpha: 0.3  Best l1_ratio: 0.1  RMSE: 2.4827181084265626  R2: 0.74117207368326\n"
     ]
    }
   ],
   "source": [
    "#ElasticNetCV\n",
    "\n",
    "l1_ratios = [.05,.1,.2,.3,.4,.5,.6,.7,.8,.9]\n",
    "\n",
    "elasticNetCV = ElasticNetCV(alphas=alphas2, \n",
    "                            l1_ratio=l1_ratios,\n",
    "                            max_iter=1e4).fit(X_train_sc, y_train)\n",
    "\n",
    "elasticnetcv_ypred= elasticNetCV.predict(X_test_sc)\n",
    "elasticNetCV_rmse = rmse(y_test, elasticnetcv_ypred)\n",
    "elasticnet_r2= r2_score(y_test, elasticnetcv_ypred)\n",
    "\n",
    "print('Best Alpha:',elasticNetCV.alpha_,' Best l1_ratio:',elasticNetCV.l1_ratio_,' RMSE:',elasticNetCV_rmse,' R2:',elasticnet_r2)"
   ]
  },
  {
   "cell_type": "code",
   "execution_count": 27,
   "id": "060fc001",
   "metadata": {},
   "outputs": [
    {
     "data": {
      "text/html": [
       "<div>\n",
       "<style scoped>\n",
       "    .dataframe tbody tr th:only-of-type {\n",
       "        vertical-align: middle;\n",
       "    }\n",
       "\n",
       "    .dataframe tbody tr th {\n",
       "        vertical-align: top;\n",
       "    }\n",
       "\n",
       "    .dataframe thead th {\n",
       "        text-align: right;\n",
       "    }\n",
       "</style>\n",
       "<table border=\"1\" class=\"dataframe\">\n",
       "  <thead>\n",
       "    <tr style=\"text-align: right;\">\n",
       "      <th></th>\n",
       "      <th>RMSE</th>\n",
       "      <th>R2</th>\n",
       "    </tr>\n",
       "    <tr>\n",
       "      <th>Model</th>\n",
       "      <th></th>\n",
       "      <th></th>\n",
       "    </tr>\n",
       "  </thead>\n",
       "  <tbody>\n",
       "    <tr>\n",
       "      <th>Linear</th>\n",
       "      <td>2.601899</td>\n",
       "      <td>0.715726</td>\n",
       "    </tr>\n",
       "    <tr>\n",
       "      <th>Ridge</th>\n",
       "      <td>2.544390</td>\n",
       "      <td>0.728153</td>\n",
       "    </tr>\n",
       "    <tr>\n",
       "      <th>Lasso</th>\n",
       "      <td>2.341409</td>\n",
       "      <td>0.769797</td>\n",
       "    </tr>\n",
       "    <tr>\n",
       "      <th>ElasticNet</th>\n",
       "      <td>2.482718</td>\n",
       "      <td>0.741172</td>\n",
       "    </tr>\n",
       "  </tbody>\n",
       "</table>\n",
       "</div>"
      ],
      "text/plain": [
       "                RMSE        R2\n",
       "Model                         \n",
       "Linear      2.601899  0.715726\n",
       "Ridge       2.544390  0.728153\n",
       "Lasso       2.341409  0.769797\n",
       "ElasticNet  2.482718  0.741172"
      ]
     },
     "execution_count": 27,
     "metadata": {},
     "output_type": "execute_result"
    }
   ],
   "source": [
    "#Display error and r2score metrics\n",
    "\n",
    "errors = [LinearReg_rmse, ridgeCV_rmse, lassoCV_rmse, elasticNetCV_rmse]\n",
    "r2scores=[LinearReg_r2,ridge_r2,lasso_r2 , elasticnet_r2]\n",
    "\n",
    "labels = ['Linear', 'Ridge', 'Lasso', 'ElasticNet']\n",
    "\n",
    "rmse_list = pd.DataFrame(labels)\n",
    "rmse_list.columns=['Model']\n",
    "rmse_list['RMSE']=errors\n",
    "rmse_list['R2']= r2scores\n",
    "rmse_list.set_index('Model')\n"
   ]
  },
  {
   "cell_type": "markdown",
   "id": "ac63541b",
   "metadata": {},
   "source": [
    "Lasso regression appears to have the best results with r2 of 0.76. The next graph will show r2 scores with different alpha values to illustrate how regularization can increase or decrease model performance."
   ]
  },
  {
   "cell_type": "code",
   "execution_count": 28,
   "id": "376663ad",
   "metadata": {},
   "outputs": [],
   "source": [
    "#R2 scores with different lasso alpha values\n",
    "scores = []\n",
    "\n",
    "s=StandardScaler()\n",
    "\n",
    "for alpha in alphas2:\n",
    "    la = Lasso(alpha=alpha, max_iter=100000)\n",
    "    \n",
    "    estimator = Pipeline([\n",
    "        (\"scaler\", s),\n",
    "        (\"lasso_regression\", la)])\n",
    "\n",
    "    predictions = cross_val_predict(estimator, X_train, y_train, cv = kf)\n",
    "    \n",
    "    score = r2_score(y_train, predictions)\n",
    "    \n",
    "    scores.append(score)"
   ]
  },
  {
   "cell_type": "code",
   "execution_count": 29,
   "id": "fe2815b5",
   "metadata": {},
   "outputs": [
    {
     "data": {
      "image/png": "[encoded data removed]",
      "text/plain": [
       "<Figure size 720x576 with 1 Axes>"
      ]
     },
     "metadata": {},
     "output_type": "display_data"
    }
   ],
   "source": [
    "#Plot r2 scores with different alphas\n",
    "plt.figure(figsize=(10,8))\n",
    "plt.semilogx(alphas2, scores, '-o')\n",
    "plt.title('Lasso Regression R2 scores ')\n",
    "plt.xlabel('Alphas')\n",
    "plt.ylabel('R2 scores');"
   ]
  },
  {
   "cell_type": "markdown",
   "id": "d290222b",
   "metadata": {},
   "source": [
    "The next regression models use GridSearchCV which will find the combination of parameters with best results."
   ]
  },
  {
   "cell_type": "code",
   "execution_count": 30,
   "id": "967a7dc8",
   "metadata": {},
   "outputs": [],
   "source": [
    "#GridSearchCV\n",
    "estimator = Pipeline([(\"polynomial_features\", PolynomialFeatures(include_bias=False)), (\"scaler\", StandardScaler()),\n",
    "                          (\"linear_regression\", LinearRegression())])\n",
    "\n",
    "params = {\n",
    "    'polynomial_features__degree': [1, 2, 3]\n",
    "}\n",
    "\n",
    "lr_grid = GridSearchCV(estimator, params, cv=kf)"
   ]
  },
  {
   "cell_type": "code",
   "execution_count": 31,
   "id": "38d67b16",
   "metadata": {},
   "outputs": [
    {
     "name": "stdout",
     "output_type": "stream",
     "text": [
      "Best Parameters: {'polynomial_features__degree': 3}  RMSE: 2.4076888647269707  R2: 0.756579563162221\n"
     ]
    }
   ],
   "source": [
    "#Fit GridSearchCV model\n",
    "warnings.simplefilter(\"ignore\")\n",
    "lr_grid.fit(X_train, y_train)\n",
    "lr_grid_ypred=lr_grid.predict(X_test)\n",
    "lr_grid_r2=r2_score(y_test, lr_grid_ypred)\n",
    "lr_grid_rmse=rmse(y_test, lr_grid_ypred)\n",
    "print('Best Parameters:', lr_grid.best_params_,' RMSE:',lr_grid_rmse,' R2:', lr_grid_r2)\n",
    "warnings.simplefilter(\"default\")"
   ]
  },
  {
   "cell_type": "code",
   "execution_count": 32,
   "id": "dec31ca0",
   "metadata": {},
   "outputs": [],
   "source": [
    "#Ridge GridSearchCV\n",
    "    \n",
    "estimator2 = Pipeline([(\"polynomial_features\", PolynomialFeatures(include_bias=False)), (\"scaler\", StandardScaler()),\n",
    "                          (\"ridge_regression\", Ridge())])\n",
    "\n",
    "params2 = {\n",
    "    'polynomial_features__degree': [1, 2, 3],\n",
    "    'ridge_regression__alpha': alphas \n",
    "}\n",
    "\n",
    "r_grid = GridSearchCV(estimator2, params2, cv=kf)"
   ]
  },
  {
   "cell_type": "code",
   "execution_count": 33,
   "id": "c51f42ec",
   "metadata": {},
   "outputs": [
    {
     "name": "stdout",
     "output_type": "stream",
     "text": [
      "Best Parameters: {'polynomial_features__degree': 1, 'ridge_regression__alpha': 50}  RMSE: 2.5443904568749174  R2: 0.7281534504083641\n"
     ]
    }
   ],
   "source": [
    "#Fit GridSearchCV model\n",
    "r_grid.fit(X_train, y_train)\n",
    "r_grid_ypred=r_grid.predict(X_test)\n",
    "r_grid_r2=r2_score(y_test, r_grid_ypred)\n",
    "r_grid_rmse=rmse(y_test, r_grid_ypred)\n",
    "print('Best Parameters:', r_grid.best_params_,' RMSE:',r_grid_rmse,' R2:', r_grid_r2)"
   ]
  },
  {
   "cell_type": "code",
   "execution_count": 34,
   "id": "a5e27901",
   "metadata": {},
   "outputs": [],
   "source": [
    "#Lasso GridSearchCV\n",
    "\n",
    "estimator3 = Pipeline([(\"polynomial_features\", PolynomialFeatures(include_bias=False)), (\"scaler\", StandardScaler()),\n",
    "                          (\"lasso_regression\", Lasso(max_iter=10000))])\n",
    "\n",
    "params3 = {\n",
    "    'polynomial_features__degree': [1, 2, 3],\n",
    "    'lasso_regression__alpha': alphas2\n",
    "   \n",
    "}\n",
    "\n",
    "l_grid = GridSearchCV(estimator3, params3, cv=kf)"
   ]
  },
  {
   "cell_type": "code",
   "execution_count": 35,
   "id": "67f0a6b4",
   "metadata": {},
   "outputs": [
    {
     "name": "stdout",
     "output_type": "stream",
     "text": [
      "Best Parameters: {'lasso_regression__alpha': 0.3, 'polynomial_features__degree': 3}  RMSE: 2.1479338986376884  R2: 0.8062694402766902\n"
     ]
    }
   ],
   "source": [
    "#Fit GridSearchCV model\n",
    "\n",
    "warnings.simplefilter(\"ignore\")\n",
    "l_grid.fit(X_train, y_train)\n",
    "l_grid_ypred=l_grid.predict(X_test)\n",
    "l_grid_r2= r2_score(y_test, l_grid_ypred)\n",
    "l_grid_rmse=rmse(y_test, l_grid_ypred)\n",
    "print('Best Parameters:', l_grid.best_params_,' RMSE:', l_grid_rmse, ' R2:',l_grid_r2)\n",
    "warnings.simplefilter(\"default\")"
   ]
  },
  {
   "cell_type": "code",
   "execution_count": 36,
   "id": "a85d6bf8",
   "metadata": {},
   "outputs": [],
   "source": [
    "#ElasticNet GridSearchCV\n",
    "\n",
    "estimator4 = Pipeline([(\"polynomial_features\", PolynomialFeatures(include_bias=False)), (\"scaler\", StandardScaler()),\n",
    "                          (\"elastic_net\", ElasticNet(max_iter=5000))])\n",
    "\n",
    "params4 = {'polynomial_features__degree': [1, 2, 3], 'elastic_net__alpha': alphas2, 'elastic_net__l1_ratio': l1_ratios}\n",
    "\n",
    "el_grid = GridSearchCV(estimator4, params4, cv=kf)"
   ]
  },
  {
   "cell_type": "code",
   "execution_count": 37,
   "id": "5b3f7a88",
   "metadata": {},
   "outputs": [
    {
     "name": "stdout",
     "output_type": "stream",
     "text": [
      "Best parameters: {'elastic_net__alpha': 0.3, 'elastic_net__l1_ratio': 0.7, 'polynomial_features__degree': 3}  RMSE: 2.1242544333467843  R2: 0.8105173823893359\n"
     ]
    }
   ],
   "source": [
    "#Fit GridSearchCV model\n",
    "warnings.simplefilter(\"ignore\")\n",
    "el_grid.fit(X_train, y_train)\n",
    "el_grid_ypred=el_grid.predict(X_test)\n",
    "el_grid_rmse=rmse(y_test, el_grid_ypred)\n",
    "el_grid_r2=r2_score(y_test, el_grid_ypred)\n",
    "print('Best parameters:', el_grid.best_params_,' RMSE:',el_grid_rmse,' R2:', el_grid_r2)\n",
    "warnings.simplefilter(\"default\")"
   ]
  },
  {
   "cell_type": "code",
   "execution_count": 39,
   "id": "dda62ddd",
   "metadata": {},
   "outputs": [
    {
     "data": {
      "text/html": [
       "<div>\n",
       "<style scoped>\n",
       "    .dataframe tbody tr th:only-of-type {\n",
       "        vertical-align: middle;\n",
       "    }\n",
       "\n",
       "    .dataframe tbody tr th {\n",
       "        vertical-align: top;\n",
       "    }\n",
       "\n",
       "    .dataframe thead th {\n",
       "        text-align: right;\n",
       "    }\n",
       "</style>\n",
       "<table border=\"1\" class=\"dataframe\">\n",
       "  <thead>\n",
       "    <tr style=\"text-align: right;\">\n",
       "      <th></th>\n",
       "      <th>RMSE</th>\n",
       "      <th>R2</th>\n",
       "    </tr>\n",
       "    <tr>\n",
       "      <th>Model</th>\n",
       "      <th></th>\n",
       "      <th></th>\n",
       "    </tr>\n",
       "  </thead>\n",
       "  <tbody>\n",
       "    <tr>\n",
       "      <th>Linear</th>\n",
       "      <td>2.407689</td>\n",
       "      <td>0.756580</td>\n",
       "    </tr>\n",
       "    <tr>\n",
       "      <th>Ridge</th>\n",
       "      <td>2.544390</td>\n",
       "      <td>0.728153</td>\n",
       "    </tr>\n",
       "    <tr>\n",
       "      <th>Lasso</th>\n",
       "      <td>2.147934</td>\n",
       "      <td>0.806269</td>\n",
       "    </tr>\n",
       "    <tr>\n",
       "      <th>ElasticNet</th>\n",
       "      <td>2.124254</td>\n",
       "      <td>0.810517</td>\n",
       "    </tr>\n",
       "  </tbody>\n",
       "</table>\n",
       "</div>"
      ],
      "text/plain": [
       "                RMSE        R2\n",
       "Model                         \n",
       "Linear      2.407689  0.756580\n",
       "Ridge       2.544390  0.728153\n",
       "Lasso       2.147934  0.806269\n",
       "ElasticNet  2.124254  0.810517"
      ]
     },
     "execution_count": 39,
     "metadata": {},
     "output_type": "execute_result"
    }
   ],
   "source": [
    "#Display results of GridSeachCV models\n",
    "\n",
    "grid_errors = [lr_grid_rmse, r_grid_rmse, l_grid_rmse, el_grid_rmse]\n",
    "grid_r2scores=[lr_grid_r2, r_grid_r2, l_grid_r2 , el_grid_r2]\n",
    "\n",
    "labels = ['Linear', 'Ridge', 'Lasso', 'ElasticNet']\n",
    "\n",
    "rmse_list = pd.DataFrame(labels)\n",
    "rmse_list.columns=['Model']\n",
    "rmse_list['RMSE']=grid_errors\n",
    "rmse_list['R2']= grid_r2scores\n",
    "rmse_list.set_index('Model')"
   ]
  },
  {
   "cell_type": "markdown",
   "id": "1d99ae4c",
   "metadata": {},
   "source": [
    "ElasticNet has the highest r2 score of 0.81 which is better than the Linear Lasso regression r2 score of 0.76. The model has degree 3 polynomial parameters which increases the complexity. It is common for ElasticNet and Lasso regression to reduce some coeficients to zero. Only 73 out of 12340 coeficients of this model are not zero after regularization."
   ]
  },
  {
   "cell_type": "code",
   "execution_count": 50,
   "id": "3dc40f10",
   "metadata": {},
   "outputs": [
    {
     "name": "stdout",
     "output_type": "stream",
     "text": [
      "73 nonzero coefficients out of  12340  total coefficients\n"
     ]
    }
   ],
   "source": [
    "#Display number of nonzero coeficients\n",
    "\n",
    "totalcoef=np.array(el_grid.best_estimator_.named_steps['elastic_net'].coef_)\n",
    "nozero=np.array(np.nonzero(el_grid.best_estimator_.named_steps['elastic_net'].coef_))\n",
    "print(nozero.size,'nonzero coefficients out of ',totalcoef.size,' total coefficients')\n",
    "\n"
   ]
  },
  {
   "cell_type": "code",
   "execution_count": 51,
   "id": "a4da4f1e",
   "metadata": {},
   "outputs": [],
   "source": [
    "#DataFrame of variable names and coeficient values\n",
    "df_importances = pd.DataFrame( zip(el_grid.best_estimator_.named_steps[\"polynomial_features\"].get_feature_names(),\n",
    "                 el_grid.best_estimator_.named_steps[\"elastic_net\"].coef_ ))"
   ]
  },
  {
   "cell_type": "code",
   "execution_count": 52,
   "id": "34be85fd",
   "metadata": {},
   "outputs": [
    {
     "data": {
      "text/html": [
       "<div>\n",
       "<style scoped>\n",
       "    .dataframe tbody tr th:only-of-type {\n",
       "        vertical-align: middle;\n",
       "    }\n",
       "\n",
       "    .dataframe tbody tr th {\n",
       "        vertical-align: top;\n",
       "    }\n",
       "\n",
       "    .dataframe thead th {\n",
       "        text-align: right;\n",
       "    }\n",
       "</style>\n",
       "<table border=\"1\" class=\"dataframe\">\n",
       "  <thead>\n",
       "    <tr style=\"text-align: right;\">\n",
       "      <th></th>\n",
       "      <th>variable</th>\n",
       "      <th>coeficient</th>\n",
       "    </tr>\n",
       "  </thead>\n",
       "  <tbody>\n",
       "    <tr>\n",
       "      <th>9444</th>\n",
       "      <td>x15 x16 x20</td>\n",
       "      <td>0.590265</td>\n",
       "    </tr>\n",
       "    <tr>\n",
       "      <th>6564</th>\n",
       "      <td>x8 x15 x20</td>\n",
       "      <td>0.500890</td>\n",
       "    </tr>\n",
       "    <tr>\n",
       "      <th>9442</th>\n",
       "      <td>x15 x16 x18</td>\n",
       "      <td>0.471846</td>\n",
       "    </tr>\n",
       "    <tr>\n",
       "      <th>2680</th>\n",
       "      <td>x2 x8 x15</td>\n",
       "      <td>0.295512</td>\n",
       "    </tr>\n",
       "    <tr>\n",
       "      <th>9509</th>\n",
       "      <td>x15 x19^2</td>\n",
       "      <td>0.251812</td>\n",
       "    </tr>\n",
       "  </tbody>\n",
       "</table>\n",
       "</div>"
      ],
      "text/plain": [
       "         variable  coeficient\n",
       "9444  x15 x16 x20    0.590265\n",
       "6564   x8 x15 x20    0.500890\n",
       "9442  x15 x16 x18    0.471846\n",
       "2680    x2 x8 x15    0.295512\n",
       "9509    x15 x19^2    0.251812"
      ]
     },
     "execution_count": 52,
     "metadata": {},
     "output_type": "execute_result"
    }
   ],
   "source": [
    "#Display positive coeficients\n",
    "\n",
    "df_importances.columns=['variable','coeficient']\n",
    "df_importances[df_importances.coeficient>0].sort_values(by='coeficient', ascending=False).head()\n"
   ]
  },
  {
   "cell_type": "code",
   "execution_count": 53,
   "id": "b48b189b",
   "metadata": {},
   "outputs": [
    {
     "data": {
      "text/html": [
       "<div>\n",
       "<style scoped>\n",
       "    .dataframe tbody tr th:only-of-type {\n",
       "        vertical-align: middle;\n",
       "    }\n",
       "\n",
       "    .dataframe tbody tr th {\n",
       "        vertical-align: top;\n",
       "    }\n",
       "\n",
       "    .dataframe thead th {\n",
       "        text-align: right;\n",
       "    }\n",
       "</style>\n",
       "<table border=\"1\" class=\"dataframe\">\n",
       "  <thead>\n",
       "    <tr style=\"text-align: right;\">\n",
       "      <th></th>\n",
       "      <th>variable</th>\n",
       "      <th>coeficient</th>\n",
       "    </tr>\n",
       "  </thead>\n",
       "  <tbody>\n",
       "    <tr>\n",
       "      <th>3279</th>\n",
       "      <td>x3 x5 x10</td>\n",
       "      <td>-0.133199</td>\n",
       "    </tr>\n",
       "    <tr>\n",
       "      <th>9110</th>\n",
       "      <td>x14 x15 x35</td>\n",
       "      <td>-0.131457</td>\n",
       "    </tr>\n",
       "    <tr>\n",
       "      <th>9752</th>\n",
       "      <td>x16^2 x28</td>\n",
       "      <td>-0.088194</td>\n",
       "    </tr>\n",
       "    <tr>\n",
       "      <th>7376</th>\n",
       "      <td>x9 x37 x39</td>\n",
       "      <td>-0.075871</td>\n",
       "    </tr>\n",
       "    <tr>\n",
       "      <th>7493</th>\n",
       "      <td>x10 x13 x39</td>\n",
       "      <td>-0.030901</td>\n",
       "    </tr>\n",
       "  </tbody>\n",
       "</table>\n",
       "</div>"
      ],
      "text/plain": [
       "         variable  coeficient\n",
       "3279    x3 x5 x10   -0.133199\n",
       "9110  x14 x15 x35   -0.131457\n",
       "9752    x16^2 x28   -0.088194\n",
       "7376   x9 x37 x39   -0.075871\n",
       "7493  x10 x13 x39   -0.030901"
      ]
     },
     "execution_count": 53,
     "metadata": {},
     "output_type": "execute_result"
    }
   ],
   "source": [
    "#Display negative coeficients\n",
    "df_importances[df_importances.coeficient<0].sort_values(by='coeficient').head()"
   ]
  },
  {
   "cell_type": "markdown",
   "id": "1d2682a2",
   "metadata": {},
   "source": [
    "The cv results show a summary of every iteration from the ElasticNet model. There are (7 alpha values * 10 l1ratio values * 3 polynomial degrees) = 210 different combinations. Also displayed were the highest and lowest coeficients in the final model. Because there are many interaction terms it can be difficult to interpret their importance."
   ]
  },
  {
   "cell_type": "code",
   "execution_count": 54,
   "id": "6fff2c1d",
   "metadata": {},
   "outputs": [
    {
     "data": {
      "text/html": [
       "<div>\n",
       "<style scoped>\n",
       "    .dataframe tbody tr th:only-of-type {\n",
       "        vertical-align: middle;\n",
       "    }\n",
       "\n",
       "    .dataframe tbody tr th {\n",
       "        vertical-align: top;\n",
       "    }\n",
       "\n",
       "    .dataframe thead th {\n",
       "        text-align: right;\n",
       "    }\n",
       "</style>\n",
       "<table border=\"1\" class=\"dataframe\">\n",
       "  <thead>\n",
       "    <tr style=\"text-align: right;\">\n",
       "      <th></th>\n",
       "      <th>mean_fit_time</th>\n",
       "      <th>std_fit_time</th>\n",
       "      <th>mean_score_time</th>\n",
       "      <th>std_score_time</th>\n",
       "      <th>param_elastic_net__alpha</th>\n",
       "      <th>param_elastic_net__l1_ratio</th>\n",
       "      <th>param_polynomial_features__degree</th>\n",
       "      <th>params</th>\n",
       "      <th>split0_test_score</th>\n",
       "      <th>split1_test_score</th>\n",
       "      <th>split2_test_score</th>\n",
       "      <th>mean_test_score</th>\n",
       "      <th>std_test_score</th>\n",
       "      <th>rank_test_score</th>\n",
       "    </tr>\n",
       "  </thead>\n",
       "  <tbody>\n",
       "    <tr>\n",
       "      <th>0</th>\n",
       "      <td>0.010107</td>\n",
       "      <td>0.004866</td>\n",
       "      <td>0.003025</td>\n",
       "      <td>0.001653</td>\n",
       "      <td>0.003</td>\n",
       "      <td>0.05</td>\n",
       "      <td>1</td>\n",
       "      <td>{'elastic_net__alpha': 0.003, 'elastic_net__l1...</td>\n",
       "      <td>0.739858</td>\n",
       "      <td>0.650546</td>\n",
       "      <td>0.412438</td>\n",
       "      <td>0.600947</td>\n",
       "      <td>0.138193</td>\n",
       "      <td>181</td>\n",
       "    </tr>\n",
       "    <tr>\n",
       "      <th>1</th>\n",
       "      <td>0.476022</td>\n",
       "      <td>0.041333</td>\n",
       "      <td>0.003178</td>\n",
       "      <td>0.000292</td>\n",
       "      <td>0.003</td>\n",
       "      <td>0.05</td>\n",
       "      <td>2</td>\n",
       "      <td>{'elastic_net__alpha': 0.003, 'elastic_net__l1...</td>\n",
       "      <td>0.838276</td>\n",
       "      <td>0.659330</td>\n",
       "      <td>0.406414</td>\n",
       "      <td>0.634673</td>\n",
       "      <td>0.177167</td>\n",
       "      <td>157</td>\n",
       "    </tr>\n",
       "    <tr>\n",
       "      <th>2</th>\n",
       "      <td>5.295452</td>\n",
       "      <td>0.315823</td>\n",
       "      <td>0.013966</td>\n",
       "      <td>0.002809</td>\n",
       "      <td>0.003</td>\n",
       "      <td>0.05</td>\n",
       "      <td>3</td>\n",
       "      <td>{'elastic_net__alpha': 0.003, 'elastic_net__l1...</td>\n",
       "      <td>0.845432</td>\n",
       "      <td>0.678448</td>\n",
       "      <td>0.425334</td>\n",
       "      <td>0.649738</td>\n",
       "      <td>0.172702</td>\n",
       "      <td>149</td>\n",
       "    </tr>\n",
       "    <tr>\n",
       "      <th>3</th>\n",
       "      <td>0.005673</td>\n",
       "      <td>0.000209</td>\n",
       "      <td>0.001354</td>\n",
       "      <td>0.000453</td>\n",
       "      <td>0.003</td>\n",
       "      <td>0.1</td>\n",
       "      <td>1</td>\n",
       "      <td>{'elastic_net__alpha': 0.003, 'elastic_net__l1...</td>\n",
       "      <td>0.739152</td>\n",
       "      <td>0.650399</td>\n",
       "      <td>0.412559</td>\n",
       "      <td>0.600703</td>\n",
       "      <td>0.137884</td>\n",
       "      <td>184</td>\n",
       "    </tr>\n",
       "    <tr>\n",
       "      <th>4</th>\n",
       "      <td>0.384142</td>\n",
       "      <td>0.033977</td>\n",
       "      <td>0.002677</td>\n",
       "      <td>0.000489</td>\n",
       "      <td>0.003</td>\n",
       "      <td>0.1</td>\n",
       "      <td>2</td>\n",
       "      <td>{'elastic_net__alpha': 0.003, 'elastic_net__l1...</td>\n",
       "      <td>0.880371</td>\n",
       "      <td>0.643745</td>\n",
       "      <td>0.344596</td>\n",
       "      <td>0.622904</td>\n",
       "      <td>0.219225</td>\n",
       "      <td>169</td>\n",
       "    </tr>\n",
       "    <tr>\n",
       "      <th>...</th>\n",
       "      <td>...</td>\n",
       "      <td>...</td>\n",
       "      <td>...</td>\n",
       "      <td>...</td>\n",
       "      <td>...</td>\n",
       "      <td>...</td>\n",
       "      <td>...</td>\n",
       "      <td>...</td>\n",
       "      <td>...</td>\n",
       "      <td>...</td>\n",
       "      <td>...</td>\n",
       "      <td>...</td>\n",
       "      <td>...</td>\n",
       "      <td>...</td>\n",
       "    </tr>\n",
       "    <tr>\n",
       "      <th>205</th>\n",
       "      <td>0.016163</td>\n",
       "      <td>0.000495</td>\n",
       "      <td>0.005246</td>\n",
       "      <td>0.007420</td>\n",
       "      <td>3.0</td>\n",
       "      <td>0.8</td>\n",
       "      <td>2</td>\n",
       "      <td>{'elastic_net__alpha': 3.0, 'elastic_net__l1_r...</td>\n",
       "      <td>0.700421</td>\n",
       "      <td>0.449721</td>\n",
       "      <td>0.686464</td>\n",
       "      <td>0.612202</td>\n",
       "      <td>0.115033</td>\n",
       "      <td>177</td>\n",
       "    </tr>\n",
       "    <tr>\n",
       "      <th>206</th>\n",
       "      <td>0.214518</td>\n",
       "      <td>0.067104</td>\n",
       "      <td>0.015622</td>\n",
       "      <td>0.000011</td>\n",
       "      <td>3.0</td>\n",
       "      <td>0.8</td>\n",
       "      <td>3</td>\n",
       "      <td>{'elastic_net__alpha': 3.0, 'elastic_net__l1_r...</td>\n",
       "      <td>0.753387</td>\n",
       "      <td>0.569196</td>\n",
       "      <td>0.654019</td>\n",
       "      <td>0.658867</td>\n",
       "      <td>0.075274</td>\n",
       "      <td>129</td>\n",
       "    </tr>\n",
       "    <tr>\n",
       "      <th>207</th>\n",
       "      <td>0.005208</td>\n",
       "      <td>0.007365</td>\n",
       "      <td>0.000000</td>\n",
       "      <td>0.000000</td>\n",
       "      <td>3.0</td>\n",
       "      <td>0.9</td>\n",
       "      <td>1</td>\n",
       "      <td>{'elastic_net__alpha': 3.0, 'elastic_net__l1_r...</td>\n",
       "      <td>0.473566</td>\n",
       "      <td>0.326952</td>\n",
       "      <td>0.656535</td>\n",
       "      <td>0.485684</td>\n",
       "      <td>0.134824</td>\n",
       "      <td>210</td>\n",
       "    </tr>\n",
       "    <tr>\n",
       "      <th>208</th>\n",
       "      <td>0.013690</td>\n",
       "      <td>0.005878</td>\n",
       "      <td>0.001662</td>\n",
       "      <td>0.001244</td>\n",
       "      <td>3.0</td>\n",
       "      <td>0.9</td>\n",
       "      <td>2</td>\n",
       "      <td>{'elastic_net__alpha': 3.0, 'elastic_net__l1_r...</td>\n",
       "      <td>0.672495</td>\n",
       "      <td>0.422556</td>\n",
       "      <td>0.629577</td>\n",
       "      <td>0.574876</td>\n",
       "      <td>0.109122</td>\n",
       "      <td>203</td>\n",
       "    </tr>\n",
       "    <tr>\n",
       "      <th>209</th>\n",
       "      <td>0.197752</td>\n",
       "      <td>0.056512</td>\n",
       "      <td>0.005212</td>\n",
       "      <td>0.007372</td>\n",
       "      <td>3.0</td>\n",
       "      <td>0.9</td>\n",
       "      <td>3</td>\n",
       "      <td>{'elastic_net__alpha': 3.0, 'elastic_net__l1_r...</td>\n",
       "      <td>0.715838</td>\n",
       "      <td>0.540699</td>\n",
       "      <td>0.616427</td>\n",
       "      <td>0.624321</td>\n",
       "      <td>0.071717</td>\n",
       "      <td>165</td>\n",
       "    </tr>\n",
       "  </tbody>\n",
       "</table>\n",
       "<p>210 rows × 14 columns</p>\n",
       "</div>"
      ],
      "text/plain": [
       "     mean_fit_time  std_fit_time  mean_score_time  std_score_time  \\\n",
       "0         0.010107      0.004866         0.003025        0.001653   \n",
       "1         0.476022      0.041333         0.003178        0.000292   \n",
       "2         5.295452      0.315823         0.013966        0.002809   \n",
       "3         0.005673      0.000209         0.001354        0.000453   \n",
       "4         0.384142      0.033977         0.002677        0.000489   \n",
       "..             ...           ...              ...             ...   \n",
       "205       0.016163      0.000495         0.005246        0.007420   \n",
       "206       0.214518      0.067104         0.015622        0.000011   \n",
       "207       0.005208      0.007365         0.000000        0.000000   \n",
       "208       0.013690      0.005878         0.001662        0.001244   \n",
       "209       0.197752      0.056512         0.005212        0.007372   \n",
       "\n",
       "    param_elastic_net__alpha param_elastic_net__l1_ratio  \\\n",
       "0                      0.003                        0.05   \n",
       "1                      0.003                        0.05   \n",
       "2                      0.003                        0.05   \n",
       "3                      0.003                         0.1   \n",
       "4                      0.003                         0.1   \n",
       "..                       ...                         ...   \n",
       "205                      3.0                         0.8   \n",
       "206                      3.0                         0.8   \n",
       "207                      3.0                         0.9   \n",
       "208                      3.0                         0.9   \n",
       "209                      3.0                         0.9   \n",
       "\n",
       "    param_polynomial_features__degree  \\\n",
       "0                                   1   \n",
       "1                                   2   \n",
       "2                                   3   \n",
       "3                                   1   \n",
       "4                                   2   \n",
       "..                                ...   \n",
       "205                                 2   \n",
       "206                                 3   \n",
       "207                                 1   \n",
       "208                                 2   \n",
       "209                                 3   \n",
       "\n",
       "                                                params  split0_test_score  \\\n",
       "0    {'elastic_net__alpha': 0.003, 'elastic_net__l1...           0.739858   \n",
       "1    {'elastic_net__alpha': 0.003, 'elastic_net__l1...           0.838276   \n",
       "2    {'elastic_net__alpha': 0.003, 'elastic_net__l1...           0.845432   \n",
       "3    {'elastic_net__alpha': 0.003, 'elastic_net__l1...           0.739152   \n",
       "4    {'elastic_net__alpha': 0.003, 'elastic_net__l1...           0.880371   \n",
       "..                                                 ...                ...   \n",
       "205  {'elastic_net__alpha': 3.0, 'elastic_net__l1_r...           0.700421   \n",
       "206  {'elastic_net__alpha': 3.0, 'elastic_net__l1_r...           0.753387   \n",
       "207  {'elastic_net__alpha': 3.0, 'elastic_net__l1_r...           0.473566   \n",
       "208  {'elastic_net__alpha': 3.0, 'elastic_net__l1_r...           0.672495   \n",
       "209  {'elastic_net__alpha': 3.0, 'elastic_net__l1_r...           0.715838   \n",
       "\n",
       "     split1_test_score  split2_test_score  mean_test_score  std_test_score  \\\n",
       "0             0.650546           0.412438         0.600947        0.138193   \n",
       "1             0.659330           0.406414         0.634673        0.177167   \n",
       "2             0.678448           0.425334         0.649738        0.172702   \n",
       "3             0.650399           0.412559         0.600703        0.137884   \n",
       "4             0.643745           0.344596         0.622904        0.219225   \n",
       "..                 ...                ...              ...             ...   \n",
       "205           0.449721           0.686464         0.612202        0.115033   \n",
       "206           0.569196           0.654019         0.658867        0.075274   \n",
       "207           0.326952           0.656535         0.485684        0.134824   \n",
       "208           0.422556           0.629577         0.574876        0.109122   \n",
       "209           0.540699           0.616427         0.624321        0.071717   \n",
       "\n",
       "     rank_test_score  \n",
       "0                181  \n",
       "1                157  \n",
       "2                149  \n",
       "3                184  \n",
       "4                169  \n",
       "..               ...  \n",
       "205              177  \n",
       "206              129  \n",
       "207              210  \n",
       "208              203  \n",
       "209              165  \n",
       "\n",
       "[210 rows x 14 columns]"
      ]
     },
     "execution_count": 54,
     "metadata": {},
     "output_type": "execute_result"
    }
   ],
   "source": [
    "#GridSearchCV results\n",
    "pd.DataFrame(el_grid.cv_results_)"
   ]
  },
  {
   "cell_type": "markdown",
   "id": "28d53e01",
   "metadata": {},
   "source": [
    "An important metric for Human Resources to analyze is employee retention. This can be an indicator of career growth opportunities and employee engagement among other factors. The Lasso and ElasticNet models with polynomial features had the best results. Next steps would be to analze real HR data from different companies to compare the most influential features. This may reveal why some features are more correlated to high employee retention and provide HR enough information to predict the churn rate within their own organization."
   ]
  }
 ],
 "metadata": {
  "kernelspec": {
   "display_name": "Python 3 (ipykernel)",
   "language": "python",
   "name": "python3"
  },
  "language_info": {
   "codemirror_mode": {
    "name": "ipython",
    "version": 3
   },
   "file_extension": ".py",
   "mimetype": "text/x-python",
   "name": "python",
   "nbconvert_exporter": "python",
   "pygments_lexer": "ipython3",
   "version": "3.8.5"
  }
 },
 "nbformat": 4,
 "nbformat_minor": 5
}
